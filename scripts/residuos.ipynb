{
 "cells": [
  {
   "cell_type": "code",
   "execution_count": null,
   "id": "71bbd620",
   "metadata": {},
   "outputs": [],
   "source": [
    "import numpy as np\n",
    "import pandas as pd\n",
    "import matplotlib.pyplot as plt\n",
    "from pathlib import Path\n",
    "from typing import List, Tuple, Dict\n",
    "\n",
    "import json\n",
    "import statsmodels.api as sm\n",
    "from statsmodels.tsa.seasonal import STL\n",
    "from statsmodels.graphics.tsaplots import plot_acf\n",
    "\n",
    "from statsmodels.stats.diagnostic import acorr_ljungbox\n"
   ]
  },
  {
   "cell_type": "markdown",
   "id": "e654130a",
   "metadata": {},
   "source": [
    "# De M0 a M4"
   ]
  },
  {
   "cell_type": "code",
   "execution_count": null,
   "id": "c17ca391",
   "metadata": {},
   "outputs": [],
   "source": [
    "def load_series(path: Path) -> pd.DataFrame:\n",
    "    \"\"\"\n",
    "    Carrega a série num pandas.DataFrame\n",
    "\n",
    "    Parameters\n",
    "    ----------\n",
    "    path : Path\n",
    "        Caminho do arquivo\n",
    "\n",
    "    Returns\n",
    "    -------\n",
    "    pd.DataFrame\n",
    "        DataFrame com os dados do arquivo original.\n",
    "    \"\"\"\n",
    "    df = pd.read_csv(path)\n",
    "    df[\"week_dt\"] = pd.to_datetime(df[\"week\"])\n",
    "    df = df.sort_values(\"week_dt\").reset_index(drop=True)\n",
    "    df[\"volume\"] = df[\"volume\"].astype(float)\n",
    "    df[\"log_volume\"] = np.log(df[\"volume\"])\n",
    "    df[\"dlog_volume\"] = df[\"log_volume\"].diff()\n",
    "    return df.dropna().reset_index(drop=True)\n",
    "\n",
    "\n",
    "def choose_period_stl(ts: pd.Series, candidates: List[int]) -> Tuple[int, pd.DataFrame]:\n",
    "    \"\"\"\n",
    "    Função que escolhe a tendência e a sazonalidade com STL (Seasonal–Trend decomposition using Loess)\n",
    "\n",
    "    Parameters\n",
    "    ----------\n",
    "    ts : pd.Series\n",
    "        Série temporal\n",
    "    candidates : List[int]\n",
    "        Lista de candidato a período de sazonalidade\n",
    "\n",
    "    Returns\n",
    "    -------\n",
    "    Tuple[int, pd.DataFrame]\n",
    "        Tupla com o melhor período de sazonalidade juntamente com o DataFrame com os valores de \n",
    "        força de tendência e sazonalidade para cada período.\n",
    "    \"\"\"\n",
    "    rows = []\n",
    "    for m in candidates:\n",
    "        res = STL(ts, period=m, robust=True).fit()\n",
    "        \n",
    "        # Força de tendência \n",
    "        Ft = max(0.0, 1.0 - np.var(res.resid) / np.var(res.trend + res.resid))\n",
    "        \n",
    "        # Força de sazonalidade\n",
    "        Fs = max(0.0, 1.0 - np.var(res.resid) / np.var(res.seasonal + res.resid))\n",
    "        rows.append({\"period\": m, \"Ft\": float(Ft), \"Fs\": float(Fs)})\n",
    "        \n",
    "    tab = pd.DataFrame(rows).sort_values(\"Fs\", ascending=False).reset_index(drop=True)\n",
    "    best = int(tab.loc[0, \"period\"])\n",
    "    return best, tab\n",
    "\n",
    "\n",
    "def add_stl_components(df: pd.DataFrame, period: int) -> pd.DataFrame:\n",
    "    \"\"\"\n",
    "    Adds STL decomposition components (trend, seasonal, and trend difference) to a DataFrame.\n",
    "    \n",
    "    Parameters\n",
    "    ----------\n",
    "    df : pd.DataFrame\n",
    "        Input DataFrame\n",
    "    period : int\n",
    "        Seasonal period\n",
    "\n",
    "    Returns\n",
    "    -------\n",
    "    pd.DataFrame\n",
    "        DataFrame with\n",
    "        - 'trend_stl': Trend component from STL decomposition.\n",
    "        - 'season_stl': Seasonal component from STL decomposition.\n",
    "        - 'dtrend_stl': First difference of the trend component.\n",
    "        - 't': Time index as a float array.\n",
    "    \"\"\"\n",
    "    res = STL(df[\"volume\"], period=period, robust=True).fit()\n",
    "    out = df.copy()\n",
    "    out[\"trend_stl\"] = pd.Series(res.trend, index=out.index)\n",
    "    out[\"season_stl\"] = pd.Series(res.seasonal, index=out.index)\n",
    "    out[\"dtrend_stl\"] = out[\"trend_stl\"].diff()\n",
    "    out[\"t\"] = np.arange(len(out), dtype=float)\n",
    "    return out.dropna().reset_index(drop=True)\n",
    "\n",
    "\n",
    "def design(y: pd.Series, Xcols: List[str], df: pd.DataFrame):\n",
    "    \"\"\"\n",
    "    Prepares the response and design matrix for multiple linear regression.\n",
    "\n",
    "    Parameters\n",
    "    ----------\n",
    "    y : pd.Series\n",
    "        The name of the response variable (target column) as a string.\n",
    "    Xcols : List[str]\n",
    "        List of column names to be used as predictors (features).\n",
    "    df : pd.DataFrame\n",
    "        The DataFrame containing the data.\n",
    "\n",
    "    Returns\n",
    "    -------\n",
    "    yv : np.ndarray\n",
    "        The response variable as a NumPy array of floats.\n",
    "    Xv : np.ndarray\n",
    "        The design matrix (predictors with intercept) as a NumPy array of floats.\n",
    "    names : List[str]\n",
    "        List of column names in the design matrix, including the intercept ('const').\n",
    "\n",
    "    Notes\n",
    "    -----\n",
    "    If `Xcols` is empty, the design matrix will only include the intercept term.\n",
    "    \"\"\"\n",
    "    yv = df[y].to_numpy(dtype=float)\n",
    "    Xv = sm.add_constant(df[Xcols].to_numpy(dtype=float), has_constant=\"add\") if Xcols else sm.add_constant(np.zeros((len(df),0)))\n",
    "    names = [\"const\"] + Xcols\n",
    "    return yv, Xv, names\n",
    "\n",
    "\n",
    "def fit_ols(y: np.ndarray, X: np.ndarray):\n",
    "    \"\"\"\n",
    "    Fits an Ordinary Least Squares (OLS) regression model.\n",
    "\n",
    "    Parameters\n",
    "    ----------\n",
    "    y : np.ndarray\n",
    "        The dependent variable (target values), as a 1-dimensional NumPy array.\n",
    "    X : np.ndarray\n",
    "        The independent variables (predictors), as a 2-dimensional NumPy array.\n",
    "\n",
    "    Returns\n",
    "    -------\n",
    "    res : RegressionResults\n",
    "        The fitted OLS regression results object from statsmodels.\n",
    "\n",
    "    Notes\n",
    "    -----\n",
    "    Rows with missing values in `y` or `X` are dropped before fitting the model.\n",
    "    \"\"\"\n",
    "    model = sm.OLS(y, X, missing=\"drop\")\n",
    "    res = model.fit()\n",
    "    return res\n",
    "\n",
    "\n",
    "def loocv_mse(y: np.ndarray, X: np.ndarray, res) -> float:\n",
    "    \"\"\"\n",
    "    Compute the Leave-One-Out Cross-Validation Mean Squared Error (LOOCV MSE) for a linear regression model.\n",
    "\n",
    "    Parameters\n",
    "    ----------\n",
    "    y : np.ndarray\n",
    "        The observed target values, shape (n_samples,).\n",
    "    X : np.ndarray\n",
    "        The design matrix (features), shape (n_samples, n_features).\n",
    "    res : object\n",
    "        The fitted regression result object, expected to have a `fittedvalues` attribute.\n",
    "\n",
    "    Returns\n",
    "    -------\n",
    "    float\n",
    "        The LOOCV mean squared error.\n",
    "\n",
    "    Notes\n",
    "    -----\n",
    "    This function uses the hat matrix diagonal to efficiently compute LOOCV MSE without refitting the model n times.\n",
    "    \"\"\"\n",
    "    XtX = X.T @ X\n",
    "    XtX_inv = np.linalg.inv(XtX)\n",
    "    H_diag = np.einsum('ij,jk,ik->i', X, XtX_inv, X)\n",
    "    resid = y - res.fittedvalues\n",
    "    return float(np.mean((resid / (1.0 - H_diag))**2))\n",
    "\n",
    "\n",
    "def metrics(y_true: np.ndarray, y_pred: np.ndarray) -> Dict[str, float]:\n",
    "    \"\"\"\n",
    "    Calculate regression error metrics between true and predicted values.\n",
    "\n",
    "    Parameters\n",
    "    ----------\n",
    "    y_true : np.ndarray\n",
    "        Array of true target values.\n",
    "    y_pred : np.ndarray\n",
    "        Array of predicted target values.\n",
    "\n",
    "    Returns\n",
    "    -------\n",
    "    Dict[str, float]\n",
    "        Dictionary containing:\n",
    "            - 'RMSE': Root Mean Squared Error\n",
    "            - 'MAE': Mean Absolute Error\n",
    "    \"\"\"\n",
    "    mse = float(np.mean((y_true - y_pred) ** 2))\n",
    "    rmse = float(np.sqrt(mse))\n",
    "    mae = float(np.mean(np.abs(y_true - y_pred)))\n",
    "    return {\"RMSE\": rmse, \"MAE\": mae}\n",
    "\n"
   ]
  },
  {
   "cell_type": "code",
   "execution_count": 3,
   "id": "4fddc69d",
   "metadata": {},
   "outputs": [
    {
     "name": "stdout",
     "output_type": "stream",
     "text": [
      "{'M0_intercept':       lb_stat  lb_pvalue\n",
      "10  24.942913   0.005455, 'M1_time_trend':       lb_stat  lb_pvalue\n",
      "10  24.984016   0.005376, 'M2_stl':       lb_stat  lb_pvalue\n",
      "10  23.684692   0.008483, 'M3_time_plus_stl':       lb_stat  lb_pvalue\n",
      "10  23.706061    0.00842}\n"
     ]
    }
   ],
   "source": [
    "# 1) Load + transform\n",
    "df0 = load_series(Path(\"data.csv\"))\n",
    "\n",
    "# 2) Escolher período sazonal via STL \n",
    "period_candidates = [4, 5, 13, 26, 52, 53]\n",
    "best_period, stl_table = choose_period_stl(df0[\"volume\"], period_candidates)\n",
    "\n",
    "# 3) Adicionar tendência e sazonalidade com STL + tendência temporal\n",
    "df = add_stl_components(df0, best_period)\n",
    "\n",
    "# 4) Split temporal 80/20\n",
    "n = len(df)\n",
    "n_test = max(1, int(np.floor(0.2*n)))\n",
    "train = df.iloc[:-n_test].copy()\n",
    "test  = df.iloc[-n_test:].copy()\n",
    "\n",
    "# 5) Especificações de modelos (STL trend/season + tendência em t)\n",
    "models = {\n",
    "    \"M0_intercept\": [],\n",
    "    \"M1_time_trend\": [\"t\"],\n",
    "    \"M2_stl\": [\"dtrend_stl\", \"season_stl\"],\n",
    "    \"M3_time_plus_stl\": [\"t\", \"dtrend_stl\", \"season_stl\"],\n",
    "}\n",
    "\n",
    "rows = []\n",
    "coef_tables = {}\n",
    "pred_test = test[[\"week_dt\", \"dlog_volume\"]].copy()\n",
    "\n",
    "ljung = {}\n",
    "\n",
    "for name, cols in models.items():\n",
    "    y_tr, X_tr, names = design(\"dlog_volume\", cols, train)\n",
    "    res = fit_ols(y_tr, X_tr)\n",
    "    y_te, X_te, _ = design(\"dlog_volume\", cols, test)\n",
    "    yhat_tr = res.predict(X_tr)\n",
    "    yhat_te = res.predict(X_te)\n",
    "    mtr = metrics(y_tr, yhat_tr)\n",
    "    mte = metrics(y_te, yhat_te)\n",
    "    r2_adj = float(res.rsquared_adj)\n",
    "    loocv = loocv_mse(y_tr, X_tr, res)\n",
    "    aic = float(res.aic); bic = float(res.bic)\n",
    "    rows.append([name, r2_adj, loocv, aic, bic, mtr[\"RMSE\"], mtr[\"MAE\"], mte[\"RMSE\"], mte[\"MAE\"]])\n",
    "    coef_df = pd.DataFrame({\"term\": names, \"coef\": res.params, \"pvalue\": res.pvalues})\n",
    "    coef_tables[name] = coef_df\n",
    "    pred_test[f\"yhat_{name}\"] = yhat_te\n",
    "    ljung[name] = acorr_ljungbox(res.resid, lags=[10], return_df=True)\n",
    "\n",
    "print(ljung)\n"
   ]
  },
  {
   "cell_type": "code",
   "execution_count": 4,
   "id": "4ec9a298",
   "metadata": {},
   "outputs": [],
   "source": [
    "\n",
    "\n",
    "# 6) Testes F de inclusão (significância conjunta)\n",
    "res_M0 = fit_ols(*design(\"dlog_volume\", models[\"M0_intercept\"], train)[:2])\n",
    "res_M1 = fit_ols(*design(\"dlog_volume\", models[\"M1_time_trend\"], train)[:2])\n",
    "res_M2 = fit_ols(*design(\"dlog_volume\", models[\"M2_stl\"], train)[:2])\n",
    "res_M3 = fit_ols(*design(\"dlog_volume\", models[\"M3_time_plus_stl\"], train)[:2])\n",
    "\n",
    "\n",
    "f_tests = {\n",
    "    \"time_trend_vs_intercept\": {\n",
    "        \"F\": float(res_M1.compare_f_test(res_M0)[0]),\n",
    "        \"pvalue\": float(res_M1.compare_f_test(res_M0)[1]),\n",
    "        \"df_diff\": int(res_M1.compare_f_test(res_M0)[2]),\n",
    "    },\n",
    "    \"stl_vs_intercept\": {\n",
    "        \"F\": float(res_M2.compare_f_test(res_M0)[0]),\n",
    "        \"pvalue\": float(res_M2.compare_f_test(res_M0)[1]),\n",
    "        \"df_diff\": int(res_M2.compare_f_test(res_M0)[2]),\n",
    "    },\n",
    "    \"time_plus_stl_vs_stl\": {\n",
    "        \"F\": float(res_M3.compare_f_test(res_M2)[0]),\n",
    "        \"pvalue\": float(res_M3.compare_f_test(res_M2)[1]),\n",
    "        \"df_diff\": int(res_M3.compare_f_test(res_M2)[2]),\n",
    "    },\n",
    "}"
   ]
  },
  {
   "cell_type": "code",
   "execution_count": 23,
   "id": "d07bb315",
   "metadata": {},
   "outputs": [
    {
     "name": "stdout",
     "output_type": "stream",
     "text": [
      "dict_values([      lb_stat  lb_pvalue\n",
      "10  24.942913   0.005455,       lb_stat  lb_pvalue\n",
      "10  24.984016   0.005376,       lb_stat  lb_pvalue\n",
      "10  23.684692   0.008483,       lb_stat  lb_pvalue\n",
      "10  23.706061    0.00842])\n"
     ]
    }
   ],
   "source": [
    "print(ljung.values())"
   ]
  },
  {
   "cell_type": "code",
   "execution_count": 20,
   "id": "729acaa5",
   "metadata": {},
   "outputs": [
    {
     "data": {
      "image/png": "[encoded data removed]",
      "text/plain": [
       "<Figure size 640x480 with 1 Axes>"
      ]
     },
     "metadata": {},
     "output_type": "display_data"
    },
    {
     "data": {
      "image/png": "[encoded data removed]",
      "text/plain": [
       "<Figure size 640x480 with 1 Axes>"
      ]
     },
     "metadata": {},
     "output_type": "display_data"
    },
    {
     "data": {
      "image/png": "[encoded data removed]",
      "text/plain": [
       "<Figure size 640x480 with 1 Axes>"
      ]
     },
     "metadata": {},
     "output_type": "display_data"
    },
    {
     "data": {
      "image/png": "[encoded data removed]",
      "text/plain": [
       "<Figure size 640x480 with 1 Axes>"
      ]
     },
     "metadata": {},
     "output_type": "display_data"
    }
   ],
   "source": [
    "# plt.plot()\n",
    "\n",
    "plot_acf(res_M0.resid, title=\"ACF Resíduos M0 - Intercepto\")\n",
    "plot_acf(res_M1.resid, title=\"ACF Resíduos M1 - Tendência Temporal\")\n",
    "plot_acf(res_M2.resid, title=\"ACF Resíduos M2 - STL\")\n",
    "plot_acf(res_M3.resid, title=\"ACF Resíduos M3 - Tendência Temporal + STL\")\n",
    "plot_acf(res_M3.resid, title=\"ACF Resíduos M3 - Tendência Temporal + STL\")\n",
    "plt.close()"
   ]
  },
  {
   "cell_type": "code",
   "execution_count": 25,
   "id": "0fbfdf8c",
   "metadata": {},
   "outputs": [],
   "source": [
    "# Criar variáveis auto-regressivas para capturar correlação serial nos resíduos\n",
    "train['dlog_volume_lag4'] = train['dlog_volume'].shift(4)\n",
    "train['dlog_volume_lag5'] = train['dlog_volume'].shift(5)\n",
    "train = train.dropna().reset_index(drop=True)"
   ]
  },
  {
   "cell_type": "code",
   "execution_count": 26,
   "id": "38f9abca",
   "metadata": {},
   "outputs": [],
   "source": [
    "res_M0_lag = fit_ols(*design(\"dlog_volume\", models[\"M0_intercept\"] + [\"dlog_volume_lag4\", \"dlog_volume_lag5\"], train)[:2])"
   ]
  },
  {
   "cell_type": "code",
   "execution_count": 28,
   "id": "7e684acb",
   "metadata": {},
   "outputs": [
    {
     "data": {
      "text/html": [
       "<div>\n",
       "<style scoped>\n",
       "    .dataframe tbody tr th:only-of-type {\n",
       "        vertical-align: middle;\n",
       "    }\n",
       "\n",
       "    .dataframe tbody tr th {\n",
       "        vertical-align: top;\n",
       "    }\n",
       "\n",
       "    .dataframe thead th {\n",
       "        text-align: right;\n",
       "    }\n",
       "</style>\n",
       "<table border=\"1\" class=\"dataframe\">\n",
       "  <thead>\n",
       "    <tr style=\"text-align: right;\">\n",
       "      <th></th>\n",
       "      <th>lb_stat</th>\n",
       "      <th>lb_pvalue</th>\n",
       "    </tr>\n",
       "  </thead>\n",
       "  <tbody>\n",
       "    <tr>\n",
       "      <th>10</th>\n",
       "      <td>13.813245</td>\n",
       "      <td>0.181682</td>\n",
       "    </tr>\n",
       "  </tbody>\n",
       "</table>\n",
       "</div>"
      ],
      "text/plain": [
       "      lb_stat  lb_pvalue\n",
       "10  13.813245   0.181682"
      ]
     },
     "execution_count": 28,
     "metadata": {},
     "output_type": "execute_result"
    },
    {
     "data": {
      "image/png": "[encoded data removed]",
      "text/plain": [
       "<Figure size 640x480 with 1 Axes>"
      ]
     },
     "metadata": {},
     "output_type": "display_data"
    }
   ],
   "source": [
    "plot_acf(res_M0_lag.resid, title=\"ACF Resíduos M0 - Intercepto com Lags\")\n",
    "acorr_ljungbox(res_M0_lag.resid, lags=[10], return_df=True)"
   ]
  },
  {
   "cell_type": "code",
   "execution_count": 32,
   "id": "e6ceceb8",
   "metadata": {},
   "outputs": [
    {
     "name": "stdout",
     "output_type": "stream",
     "text": [
      "M1\n"
     ]
    },
    {
     "data": {
      "text/html": [
       "<div>\n",
       "<style scoped>\n",
       "    .dataframe tbody tr th:only-of-type {\n",
       "        vertical-align: middle;\n",
       "    }\n",
       "\n",
       "    .dataframe tbody tr th {\n",
       "        vertical-align: top;\n",
       "    }\n",
       "\n",
       "    .dataframe thead th {\n",
       "        text-align: right;\n",
       "    }\n",
       "</style>\n",
       "<table border=\"1\" class=\"dataframe\">\n",
       "  <thead>\n",
       "    <tr style=\"text-align: right;\">\n",
       "      <th></th>\n",
       "      <th>lb_stat</th>\n",
       "      <th>lb_pvalue</th>\n",
       "    </tr>\n",
       "  </thead>\n",
       "  <tbody>\n",
       "    <tr>\n",
       "      <th>10</th>\n",
       "      <td>13.809225</td>\n",
       "      <td>0.181873</td>\n",
       "    </tr>\n",
       "  </tbody>\n",
       "</table>\n",
       "</div>"
      ],
      "text/plain": [
       "      lb_stat  lb_pvalue\n",
       "10  13.809225   0.181873"
      ]
     },
     "metadata": {},
     "output_type": "display_data"
    },
    {
     "name": "stdout",
     "output_type": "stream",
     "text": [
      "M2\n"
     ]
    },
    {
     "data": {
      "text/html": [
       "<div>\n",
       "<style scoped>\n",
       "    .dataframe tbody tr th:only-of-type {\n",
       "        vertical-align: middle;\n",
       "    }\n",
       "\n",
       "    .dataframe tbody tr th {\n",
       "        vertical-align: top;\n",
       "    }\n",
       "\n",
       "    .dataframe thead th {\n",
       "        text-align: right;\n",
       "    }\n",
       "</style>\n",
       "<table border=\"1\" class=\"dataframe\">\n",
       "  <thead>\n",
       "    <tr style=\"text-align: right;\">\n",
       "      <th></th>\n",
       "      <th>lb_stat</th>\n",
       "      <th>lb_pvalue</th>\n",
       "    </tr>\n",
       "  </thead>\n",
       "  <tbody>\n",
       "    <tr>\n",
       "      <th>10</th>\n",
       "      <td>14.114958</td>\n",
       "      <td>0.167812</td>\n",
       "    </tr>\n",
       "  </tbody>\n",
       "</table>\n",
       "</div>"
      ],
      "text/plain": [
       "      lb_stat  lb_pvalue\n",
       "10  14.114958   0.167812"
      ]
     },
     "metadata": {},
     "output_type": "display_data"
    },
    {
     "name": "stdout",
     "output_type": "stream",
     "text": [
      "M3\n"
     ]
    },
    {
     "data": {
      "text/html": [
       "<div>\n",
       "<style scoped>\n",
       "    .dataframe tbody tr th:only-of-type {\n",
       "        vertical-align: middle;\n",
       "    }\n",
       "\n",
       "    .dataframe tbody tr th {\n",
       "        vertical-align: top;\n",
       "    }\n",
       "\n",
       "    .dataframe thead th {\n",
       "        text-align: right;\n",
       "    }\n",
       "</style>\n",
       "<table border=\"1\" class=\"dataframe\">\n",
       "  <thead>\n",
       "    <tr style=\"text-align: right;\">\n",
       "      <th></th>\n",
       "      <th>lb_stat</th>\n",
       "      <th>lb_pvalue</th>\n",
       "    </tr>\n",
       "  </thead>\n",
       "  <tbody>\n",
       "    <tr>\n",
       "      <th>10</th>\n",
       "      <td>14.145343</td>\n",
       "      <td>0.166465</td>\n",
       "    </tr>\n",
       "  </tbody>\n",
       "</table>\n",
       "</div>"
      ],
      "text/plain": [
       "      lb_stat  lb_pvalue\n",
       "10  14.145343   0.166465"
      ]
     },
     "metadata": {},
     "output_type": "display_data"
    }
   ],
   "source": [
    "# Fazendo o mesmo para os outros modelos\n",
    "res_M1_lag = fit_ols(*design(\"dlog_volume\", models[\"M1_time_trend\"] + [\"dlog_volume_lag4\", \"dlog_volume_lag5\"], train)[:2])\n",
    "res_M2_lag = fit_ols(*design(\"dlog_volume\", models[\"M2_stl\"] + [\"dlog_volume_lag4\", \"dlog_volume_lag5\"], train)[:2])\n",
    "res_M3_lag = fit_ols(*design(\"dlog_volume\", models[\"M3_time_plus_stl\"] + [\"dlog_volume_lag4\", \"dlog_volume_lag5\"], train)[:2])\n",
    "\n",
    "\n",
    "print(\"M1\")\n",
    "display(acorr_ljungbox(res_M1_lag.resid, lags=[10], return_df=True))\n",
    "print(\"M2\")\n",
    "display(acorr_ljungbox(res_M2_lag.resid, lags=[10], return_df=True))\n",
    "print(\"M3\")\n",
    "display(acorr_ljungbox(res_M3_lag.resid, lags=[10], return_df=True))"
   ]
  },
  {
   "cell_type": "code",
   "execution_count": 34,
   "id": "0407ea3f",
   "metadata": {},
   "outputs": [
    {
     "data": {
      "text/plain": [
       "{'time_trend_vs_intercept': {'F': 0.021890244300732265,\n",
       "  'pvalue': 0.8826341290859032,\n",
       "  'df_diff': 1},\n",
       " 'stl_vs_intercept': {'F': 1.171411839940591,\n",
       "  'pvalue': 0.3135678914794219,\n",
       "  'df_diff': 2},\n",
       " 'time_plus_stl_vs_stl': {'F': 0.008937592513156765,\n",
       "  'pvalue': 0.9248456561642311,\n",
       "  'df_diff': 1}}"
      ]
     },
     "execution_count": 34,
     "metadata": {},
     "output_type": "execute_result"
    }
   ],
   "source": [
    "new_tests = {\n",
    "    \"time_trend_vs_intercept\": {\n",
    "        \"F\": float(res_M1.compare_f_test(res_M0)[0]),\n",
    "        \"pvalue\": float(res_M1.compare_f_test(res_M0)[1]),\n",
    "        \"df_diff\": int(res_M1.compare_f_test(res_M0)[2]),\n",
    "    },\n",
    "    \"stl_vs_intercept\": {\n",
    "        \"F\": float(res_M2.compare_f_test(res_M0)[0]),\n",
    "        \"pvalue\": float(res_M2.compare_f_test(res_M0)[1]),\n",
    "        \"df_diff\": int(res_M2.compare_f_test(res_M0)[2]),\n",
    "    },\n",
    "    \"time_plus_stl_vs_stl\": {\n",
    "        \"F\": float(res_M3.compare_f_test(res_M2)[0]),\n",
    "        \"pvalue\": float(res_M3.compare_f_test(res_M2)[1]),\n",
    "        \"df_diff\": int(res_M3.compare_f_test(res_M2)[2]),\n",
    "    },\n",
    "}\n",
    "new_tests"
   ]
  },
  {
   "cell_type": "code",
   "execution_count": 43,
   "id": "e116bfa4",
   "metadata": {},
   "outputs": [
    {
     "data": {
      "text/html": [
       "<div>\n",
       "<style scoped>\n",
       "    .dataframe tbody tr th:only-of-type {\n",
       "        vertical-align: middle;\n",
       "    }\n",
       "\n",
       "    .dataframe tbody tr th {\n",
       "        vertical-align: top;\n",
       "    }\n",
       "\n",
       "    .dataframe thead th {\n",
       "        text-align: right;\n",
       "    }\n",
       "</style>\n",
       "<table border=\"1\" class=\"dataframe\">\n",
       "  <thead>\n",
       "    <tr style=\"text-align: right;\">\n",
       "      <th></th>\n",
       "      <th>Comparison</th>\n",
       "      <th>F</th>\n",
       "      <th>pvalue</th>\n",
       "      <th>df_diff</th>\n",
       "    </tr>\n",
       "  </thead>\n",
       "  <tbody>\n",
       "    <tr>\n",
       "      <th>0</th>\n",
       "      <td>time_trend_vs_intercept</td>\n",
       "      <td>0.021890</td>\n",
       "      <td>0.882634</td>\n",
       "      <td>1</td>\n",
       "    </tr>\n",
       "    <tr>\n",
       "      <th>1</th>\n",
       "      <td>stl_vs_intercept</td>\n",
       "      <td>1.171412</td>\n",
       "      <td>0.313568</td>\n",
       "      <td>2</td>\n",
       "    </tr>\n",
       "    <tr>\n",
       "      <th>2</th>\n",
       "      <td>time_plus_stl_vs_stl</td>\n",
       "      <td>0.008938</td>\n",
       "      <td>0.924846</td>\n",
       "      <td>1</td>\n",
       "    </tr>\n",
       "  </tbody>\n",
       "</table>\n",
       "</div>"
      ],
      "text/plain": [
       "                Comparison         F    pvalue  df_diff\n",
       "0  time_trend_vs_intercept  0.021890  0.882634        1\n",
       "1         stl_vs_intercept  1.171412  0.313568        2\n",
       "2     time_plus_stl_vs_stl  0.008938  0.924846        1"
      ]
     },
     "execution_count": 43,
     "metadata": {},
     "output_type": "execute_result"
    }
   ],
   "source": [
    "new_test_list = [{\"Comparison\": k, **v} for k, v in new_tests.items()]\n",
    "pd.json_normalize(new_test_list)"
   ]
  }
 ],
 "metadata": {
  "kernelspec": {
   "display_name": "venv",
   "language": "python",
   "name": "python3"
  },
  "language_info": {
   "codemirror_mode": {
    "name": "ipython",
    "version": 3
   },
   "file_extension": ".py",
   "mimetype": "text/x-python",
   "name": "python",
   "nbconvert_exporter": "python",
   "pygments_lexer": "ipython3",
   "version": "3.13.7"
  }
 },
 "nbformat": 4,
 "nbformat_minor": 5
}
